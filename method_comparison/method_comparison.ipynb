{
 "cells": [
  {
   "cell_type": "markdown",
   "metadata": {},
   "source": [
    "# Code comparing different models and imputation methods for different missingness mechanisms."
   ]
  },
  {
   "cell_type": "code",
   "execution_count": 1,
   "metadata": {},
   "outputs": [],
   "source": [
    "import pandas as pd\n",
    "import numpy as np\n",
    "from paired_ttest import *\n",
    "from linear_regression import *"
   ]
  },
  {
   "cell_type": "markdown",
   "metadata": {},
   "source": [
    "Baseline values."
   ]
  },
  {
   "cell_type": "code",
   "execution_count": 2,
   "metadata": {},
   "outputs": [],
   "source": [
    "# To obtain the measure of the variance below, run in R:\n",
    "# > results <- make_data3bis(dim=9, size=200000)\n",
    "# > var(results$y)\n",
    "\n",
    "y_variances = {\n",
    "    'mcar': 33,#10,\n",
    "    'mnar': 33,\n",
    "    'pred': 35,#10,\n",
    "    'linearlinear': 25.4,\n",
    "    'linearnonlinear': 1710,\n",
    "    'nonlinearnonlinear': 1082,\n",
    "}"
   ]
  },
  {
   "cell_type": "code",
   "execution_count": 3,
   "metadata": {},
   "outputs": [],
   "source": [
    "def compute_range(data):\n",
    "    return np.min(data), np.max(data)"
   ]
  },
  {
   "cell_type": "code",
   "execution_count": 4,
   "metadata": {},
   "outputs": [],
   "source": [
    "data_file_path = '../final_results/results-miss6-rho5/results/'\n",
    "\n",
    "output_file_path = '../final_results/results-miss6-rho5/figures/'"
   ]
  },
  {
   "cell_type": "markdown",
   "metadata": {},
   "source": [
    "### Compare different imputation methods across all models in the MCAR missingness mechanism."
   ]
  },
  {
   "cell_type": "markdown",
   "metadata": {},
   "source": [
    "We would like to find out which imputation method is the most effective for each learning algorithm. Therefore, we loop through each learning algorithm that we used (decision tree, random forest, xgboost, svm, knn) and perform the linear regression test for each."
   ]
  },
  {
   "cell_type": "markdown",
   "metadata": {},
   "source": [
    "The code is implemented in separate Python files."
   ]
  },
  {
   "cell_type": "code",
   "execution_count": 5,
   "metadata": {},
   "outputs": [],
   "source": [
    "# must set header=0 or else the first row of the csv will be ignored\n",
    "data = pd.read_csv(data_file_path+f'scores_mcar.csv', header=0,\n",
    "                    names=['index', 'score', 'method', 'forest'])\n",
    "\n",
    "# Knowing the variance of y, we can extract the R2\n",
    "data['R2'] = 1 - data['score'] / y_variances['mcar']\n",
    "# The fold number is encoded at the end of the name of the index\n",
    "data['fold'] = data['index'].str.extract('(\\d+)$').astype(int)\n",
    "\n",
    "compute_range(data['R2'])\n",
    "\n",
    "create_coefficient_table(data, output_file_path+'coef_table_mcar.pdf')"
   ]
  },
  {
   "cell_type": "code",
   "execution_count": 6,
   "metadata": {},
   "outputs": [],
   "source": [
    "# must set header=0 or else the first row of the csv will be ignored\n",
    "data = pd.read_csv(data_file_path+f'scores_mnar.csv', header=0,\n",
    "                    names=['index', 'score', 'method', 'forest'])\n",
    "\n",
    "# Knowing the variance of y, we can extract the R2\n",
    "data['R2'] = 1 - data['score'] / y_variances['mnar']\n",
    "# The fold number is encoded at the end of the name of the index\n",
    "data['fold'] = data['index'].str.extract('(\\d+)$').astype(int)\n",
    "\n",
    "compute_range(data['R2'])\n",
    "\n",
    "create_coefficient_table(data, output_file_path+'coef_table_mnar.pdf')"
   ]
  },
  {
   "cell_type": "code",
   "execution_count": 7,
   "metadata": {},
   "outputs": [],
   "source": [
    "# must set header=0 or else the first row of the csv will be ignored\n",
    "data = pd.read_csv(data_file_path+f'scores_pred.csv', header=0,\n",
    "                    names=['index', 'score', 'method', 'forest'])\n",
    "\n",
    "# Knowing the variance of y, we can extract the R2\n",
    "data['R2'] = 1 - data['score'] / y_variances['pred']\n",
    "# The fold number is encoded at the end of the name of the index\n",
    "data['fold'] = data['index'].str.extract('(\\d+)$').astype(int)\n",
    "\n",
    "compute_range(data['R2'])\n",
    "\n",
    "create_coefficient_table(data, output_file_path+'coef_table_pred.pdf')"
   ]
  },
  {
   "cell_type": "markdown",
   "metadata": {},
   "source": [
    "### Paired t-tests\n",
    "\n",
    "Perform paired t-tests between each pair of methods. Save the p-values into a matrix."
   ]
  },
  {
   "cell_type": "markdown",
   "metadata": {},
   "source": [
    "The following code runs paired t-tests between five different methods and creates a heatmap showing the resulting p-values"
   ]
  },
  {
   "cell_type": "code",
   "execution_count": 8,
   "metadata": {},
   "outputs": [],
   "source": [
    "# must set header=0 or else the first row of the csv will be ignored\n",
    "data = pd.read_csv(data_file_path+f'scores_mcar.csv', header=0,\n",
    "                    names=['index', 'score', 'method', 'forest'])\n",
    "\n",
    "# Knowing the variance of y, we can extract the R2\n",
    "data['R2'] = 1 - data['score'] / y_variances['mcar']\n",
    "# The fold number is encoded at the end of the name of the index\n",
    "data['fold'] = data['index'].str.extract('(\\d+)$').astype(int)\n",
    "\n",
    "paired_ttest(data, output_file_path+'paired_ttests_matrices_mcar.pdf')"
   ]
  },
  {
   "cell_type": "code",
   "execution_count": 9,
   "metadata": {},
   "outputs": [],
   "source": [
    "# must set header=0 or else the first row of the csv will be ignored\n",
    "data = pd.read_csv(data_file_path+f'scores_mnar.csv', header=0,\n",
    "                    names=['index', 'score', 'method', 'forest'])\n",
    "\n",
    "# Knowing the variance of y, we can extract the R2\n",
    "data['R2'] = 1 - data['score'] / y_variances['mnar']\n",
    "# The fold number is encoded at the end of the name of the index\n",
    "data['fold'] = data['index'].str.extract('(\\d+)$').astype(int)\n",
    "\n",
    "paired_ttest(data, output_file_path+'paired_ttests_matrices_mnar.pdf')"
   ]
  },
  {
   "cell_type": "code",
   "execution_count": 10,
   "metadata": {},
   "outputs": [],
   "source": [
    "# must set header=0 or else the first row of the csv will be ignored\n",
    "data = pd.read_csv(data_file_path+f'scores_pred.csv', header=0,\n",
    "                    names=['index', 'score', 'method', 'forest'])\n",
    "\n",
    "# Knowing the variance of y, we can extract the R2\n",
    "data['R2'] = 1 - data['score'] / y_variances['pred']\n",
    "# The fold number is encoded at the end of the name of the index\n",
    "data['fold'] = data['index'].str.extract('(\\d+)$').astype(int)\n",
    "\n",
    "paired_ttest(data, output_file_path+'paired_ttests_matrices_pred.pdf')"
   ]
  }
 ],
 "metadata": {
  "kernelspec": {
   "display_name": "base",
   "language": "python",
   "name": "python3"
  },
  "language_info": {
   "codemirror_mode": {
    "name": "ipython",
    "version": 3
   },
   "file_extension": ".py",
   "mimetype": "text/x-python",
   "name": "python",
   "nbconvert_exporter": "python",
   "pygments_lexer": "ipython3",
   "version": "3.10.9"
  }
 },
 "nbformat": 4,
 "nbformat_minor": 2
}
